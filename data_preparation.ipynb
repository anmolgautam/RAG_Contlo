{
 "cells": [
  {
   "cell_type": "code",
   "execution_count": 1,
   "metadata": {},
   "outputs": [],
   "source": [
    "import pandas as pd"
   ]
  },
  {
   "cell_type": "code",
   "execution_count": 4,
   "metadata": {},
   "outputs": [],
   "source": [
    "df = pd.read_csv('url_description.csv')"
   ]
  },
  {
   "cell_type": "code",
   "execution_count": 6,
   "metadata": {},
   "outputs": [
    {
     "data": {
      "text/html": [
       "<div>\n",
       "<style scoped>\n",
       "    .dataframe tbody tr th:only-of-type {\n",
       "        vertical-align: middle;\n",
       "    }\n",
       "\n",
       "    .dataframe tbody tr th {\n",
       "        vertical-align: top;\n",
       "    }\n",
       "\n",
       "    .dataframe thead th {\n",
       "        text-align: right;\n",
       "    }\n",
       "</style>\n",
       "<table border=\"1\" class=\"dataframe\">\n",
       "  <thead>\n",
       "    <tr style=\"text-align: right;\">\n",
       "      <th></th>\n",
       "      <th>url</th>\n",
       "      <th>description</th>\n",
       "    </tr>\n",
       "  </thead>\n",
       "  <tbody>\n",
       "    <tr>\n",
       "      <th>0</th>\n",
       "      <td>https://contlo.com/email-marketing/</td>\n",
       "      <td>Contlo's Email Marketing offers tailored solut...</td>\n",
       "    </tr>\n",
       "    <tr>\n",
       "      <th>1</th>\n",
       "      <td>https://contlo.com/sms-marketing/</td>\n",
       "      <td>Contlo's SMS Marketing service offers business...</td>\n",
       "    </tr>\n",
       "    <tr>\n",
       "      <th>2</th>\n",
       "      <td>https://contlo.com/whatsapp-marketing/</td>\n",
       "      <td>Contlo's WhatsApp Marketing service empowers b...</td>\n",
       "    </tr>\n",
       "    <tr>\n",
       "      <th>3</th>\n",
       "      <td>https://contlo.com/brand-ai-model/</td>\n",
       "      <td>Contlo's Brand AI Model revolutionizes marketi...</td>\n",
       "    </tr>\n",
       "    <tr>\n",
       "      <th>4</th>\n",
       "      <td>https://contlo.com/helpdesk-overview/</td>\n",
       "      <td>Contlo's Customer Helpdesk offers businesses a...</td>\n",
       "    </tr>\n",
       "  </tbody>\n",
       "</table>\n",
       "</div>"
      ],
      "text/plain": [
       "                                      url  \\\n",
       "0     https://contlo.com/email-marketing/   \n",
       "1       https://contlo.com/sms-marketing/   \n",
       "2  https://contlo.com/whatsapp-marketing/   \n",
       "3      https://contlo.com/brand-ai-model/   \n",
       "4   https://contlo.com/helpdesk-overview/   \n",
       "\n",
       "                                         description  \n",
       "0  Contlo's Email Marketing offers tailored solut...  \n",
       "1  Contlo's SMS Marketing service offers business...  \n",
       "2  Contlo's WhatsApp Marketing service empowers b...  \n",
       "3  Contlo's Brand AI Model revolutionizes marketi...  \n",
       "4  Contlo's Customer Helpdesk offers businesses a...  "
      ]
     },
     "execution_count": 6,
     "metadata": {},
     "output_type": "execute_result"
    }
   ],
   "source": [
    "column_names = ['url','description']\n",
    "df.columns = column_names\n",
    "df.head()"
   ]
  },
  {
   "cell_type": "code",
   "execution_count": 7,
   "metadata": {},
   "outputs": [],
   "source": [
    "df['text'] = \"For this URL : \" + df['url'] + \" description is : \" + df['description']"
   ]
  },
  {
   "cell_type": "code",
   "execution_count": 10,
   "metadata": {},
   "outputs": [
    {
     "data": {
      "text/plain": [
       "\"For this URL : https://contlo.com/email-marketing/ description is : Contlo's Email Marketing offers tailored solutions for modern businesses, helping them increase sales and grow to new levels. With features like hyper-personalized emails, intelligent product recommendations, and dynamic discount codes, businesses can achieve high conversions and increase revenue. The platform's automations drive repeat sales and build customer relationships through behavior-based targeting and pre-built automations for various stages of the customer journey. Contlo also provides advanced customer segmentation, rich integrations, and comprehensive reporting, making it a valuable tool for businesses looking to simplify marketing tasks, gain insights, and effectively engage with customers.\""
      ]
     },
     "execution_count": 10,
     "metadata": {},
     "output_type": "execute_result"
    }
   ],
   "source": [
    "df['text'][0]"
   ]
  },
  {
   "cell_type": "code",
   "execution_count": 11,
   "metadata": {},
   "outputs": [],
   "source": [
    "df['text'].to_csv('final.csv')"
   ]
  },
  {
   "cell_type": "code",
   "execution_count": 12,
   "metadata": {},
   "outputs": [],
   "source": [
    "df2 = pd.read_csv('final.csv')\n",
    "df_list = df2['text'].to_list()"
   ]
  },
  {
   "cell_type": "code",
   "execution_count": 13,
   "metadata": {},
   "outputs": [
    {
     "data": {
      "text/plain": [
       "\"For this URL : https://contlo.com/email-marketing/ description is : Contlo's Email Marketing offers tailored solutions for modern businesses, helping them increase sales and grow to new levels. With features like hyper-personalized emails, intelligent product recommendations, and dynamic discount codes, businesses can achieve high conversions and increase revenue. The platform's automations drive repeat sales and build customer relationships through behavior-based targeting and pre-built automations for various stages of the customer journey. Contlo also provides advanced customer segmentation, rich integrations, and comprehensive reporting, making it a valuable tool for businesses looking to simplify marketing tasks, gain insights, and effectively engage with customers.\""
      ]
     },
     "execution_count": 13,
     "metadata": {},
     "output_type": "execute_result"
    }
   ],
   "source": [
    "df_list[0]"
   ]
  },
  {
   "cell_type": "code",
   "execution_count": null,
   "metadata": {},
   "outputs": [],
   "source": []
  }
 ],
 "metadata": {
  "kernelspec": {
   "display_name": "nlp",
   "language": "python",
   "name": "python3"
  },
  "language_info": {
   "codemirror_mode": {
    "name": "ipython",
    "version": 3
   },
   "file_extension": ".py",
   "mimetype": "text/x-python",
   "name": "python",
   "nbconvert_exporter": "python",
   "pygments_lexer": "ipython3",
   "version": "3.9.0"
  }
 },
 "nbformat": 4,
 "nbformat_minor": 2
}
